{
  "nbformat": 4,
  "nbformat_minor": 0,
  "metadata": {
    "colab": {
      "provenance": []
    },
    "kernelspec": {
      "name": "python3",
      "display_name": "Python 3"
    }
  },
  "cells": [
    {
      "cell_type": "markdown",
      "metadata": {
        "id": "xl24yMNM_I5O"
      },
      "source": [
        "# Training a classifier on a real dataset.\n",
        "\n",
        "## Task:\n",
        "We need to train a classifier that determines the type of bicycle on a small dataset of bicycle photos from public sources.\n",
        "\n",
        "Analyse the data, select the appropriate tools and metrics to address this challenge.\n",
        "\n",
        "You are allowed to use pre-trained models from torchvision.models.\n",
        "Write a report about the results."
      ]
    },
    {
      "cell_type": "markdown",
      "source": [
        "# Data"
      ],
      "metadata": {
        "id": "LkTSFZphAXKF"
      }
    },
    {
      "cell_type": "code",
      "metadata": {
        "id": "DwpBOkfFNBvk"
      },
      "source": [
        "! wget http://fmb.images.gan4x4.ru/hse/bt_dataset3.zip"
      ],
      "execution_count": null,
      "outputs": []
    },
    {
      "cell_type": "code",
      "metadata": {
        "id": "qujAbDgbf9PV"
      },
      "source": [
        "! unzip bt_dataset3.zip\n"
      ],
      "execution_count": null,
      "outputs": []
    },
    {
      "cell_type": "markdown",
      "source": [
        "# Solution"
      ],
      "metadata": {
        "id": "RnQXR4bqAZwK"
      }
    },
    {
      "cell_type": "code",
      "source": [
        "# Put your code here"
      ],
      "metadata": {
        "id": "t3B2tyv1AbRk"
      },
      "execution_count": null,
      "outputs": []
    },
    {
      "cell_type": "markdown",
      "metadata": {
        "id": "9cZKaWm1NBDd"
      },
      "source": [
        "# Report\n",
        "..."
      ]
    }
  ]
}