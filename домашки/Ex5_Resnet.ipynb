{
  "nbformat": 4,
  "nbformat_minor": 0,
  "metadata": {
    "colab": {
      "provenance": []
    },
    "kernelspec": {
      "name": "python3",
      "display_name": "Python 3"
    },
    "accelerator": "GPU"
  },
  "cells": [
    {
      "cell_type": "markdown",
      "metadata": {
        "id": "qvMm-X5Ebk8z"
      },
      "source": [
        "#Show base model\n",
        "\n",
        "Load resnet model form pytorch model zoo"
      ]
    },
    {
      "cell_type": "code",
      "metadata": {
        "id": "YuvoBvYRrV0-",
        "colab": {
          "base_uri": "https://localhost:8080/"
        },
        "outputId": "7396bd07-0633-4a5a-d4bb-d6a7436310e7"
      },
      "source": [
        "from torchvision.models import resnet18\n",
        "import os\n",
        "import shutil\n",
        "\n",
        "resnet_original = resnet18()\n",
        "print(resnet_original)\n",
        "\n",
        "\n",
        "# Helper method to run Tensorboard in Colab\n",
        "def reinit_tensorboard(clear_log = True):\n",
        "  # Directory for log files\n",
        "  logs_base_dir = \"runs\"\n",
        "  if clear_log:\n",
        "    # Clear logs\n",
        "    shutil.rmtree(logs_base_dir, ignore_errors = True)\n",
        "    os.makedirs(logs_base_dir, exist_ok=True)\n",
        "  # Colab magic\n",
        "  %load_ext tensorboard\n",
        "  %tensorboard --logdir {logs_base_dir}"
      ],
      "execution_count": null,
      "outputs": [
        {
          "output_type": "stream",
          "name": "stdout",
          "text": [
            "ResNet(\n",
            "  (conv1): Conv2d(3, 64, kernel_size=(7, 7), stride=(2, 2), padding=(3, 3), bias=False)\n",
            "  (bn1): BatchNorm2d(64, eps=1e-05, momentum=0.1, affine=True, track_running_stats=True)\n",
            "  (relu): ReLU(inplace=True)\n",
            "  (maxpool): MaxPool2d(kernel_size=3, stride=2, padding=1, dilation=1, ceil_mode=False)\n",
            "  (layer1): Sequential(\n",
            "    (0): BasicBlock(\n",
            "      (conv1): Conv2d(64, 64, kernel_size=(3, 3), stride=(1, 1), padding=(1, 1), bias=False)\n",
            "      (bn1): BatchNorm2d(64, eps=1e-05, momentum=0.1, affine=True, track_running_stats=True)\n",
            "      (relu): ReLU(inplace=True)\n",
            "      (conv2): Conv2d(64, 64, kernel_size=(3, 3), stride=(1, 1), padding=(1, 1), bias=False)\n",
            "      (bn2): BatchNorm2d(64, eps=1e-05, momentum=0.1, affine=True, track_running_stats=True)\n",
            "    )\n",
            "    (1): BasicBlock(\n",
            "      (conv1): Conv2d(64, 64, kernel_size=(3, 3), stride=(1, 1), padding=(1, 1), bias=False)\n",
            "      (bn1): BatchNorm2d(64, eps=1e-05, momentum=0.1, affine=True, track_running_stats=True)\n",
            "      (relu): ReLU(inplace=True)\n",
            "      (conv2): Conv2d(64, 64, kernel_size=(3, 3), stride=(1, 1), padding=(1, 1), bias=False)\n",
            "      (bn2): BatchNorm2d(64, eps=1e-05, momentum=0.1, affine=True, track_running_stats=True)\n",
            "    )\n",
            "  )\n",
            "  (layer2): Sequential(\n",
            "    (0): BasicBlock(\n",
            "      (conv1): Conv2d(64, 128, kernel_size=(3, 3), stride=(2, 2), padding=(1, 1), bias=False)\n",
            "      (bn1): BatchNorm2d(128, eps=1e-05, momentum=0.1, affine=True, track_running_stats=True)\n",
            "      (relu): ReLU(inplace=True)\n",
            "      (conv2): Conv2d(128, 128, kernel_size=(3, 3), stride=(1, 1), padding=(1, 1), bias=False)\n",
            "      (bn2): BatchNorm2d(128, eps=1e-05, momentum=0.1, affine=True, track_running_stats=True)\n",
            "      (downsample): Sequential(\n",
            "        (0): Conv2d(64, 128, kernel_size=(1, 1), stride=(2, 2), bias=False)\n",
            "        (1): BatchNorm2d(128, eps=1e-05, momentum=0.1, affine=True, track_running_stats=True)\n",
            "      )\n",
            "    )\n",
            "    (1): BasicBlock(\n",
            "      (conv1): Conv2d(128, 128, kernel_size=(3, 3), stride=(1, 1), padding=(1, 1), bias=False)\n",
            "      (bn1): BatchNorm2d(128, eps=1e-05, momentum=0.1, affine=True, track_running_stats=True)\n",
            "      (relu): ReLU(inplace=True)\n",
            "      (conv2): Conv2d(128, 128, kernel_size=(3, 3), stride=(1, 1), padding=(1, 1), bias=False)\n",
            "      (bn2): BatchNorm2d(128, eps=1e-05, momentum=0.1, affine=True, track_running_stats=True)\n",
            "    )\n",
            "  )\n",
            "  (layer3): Sequential(\n",
            "    (0): BasicBlock(\n",
            "      (conv1): Conv2d(128, 256, kernel_size=(3, 3), stride=(2, 2), padding=(1, 1), bias=False)\n",
            "      (bn1): BatchNorm2d(256, eps=1e-05, momentum=0.1, affine=True, track_running_stats=True)\n",
            "      (relu): ReLU(inplace=True)\n",
            "      (conv2): Conv2d(256, 256, kernel_size=(3, 3), stride=(1, 1), padding=(1, 1), bias=False)\n",
            "      (bn2): BatchNorm2d(256, eps=1e-05, momentum=0.1, affine=True, track_running_stats=True)\n",
            "      (downsample): Sequential(\n",
            "        (0): Conv2d(128, 256, kernel_size=(1, 1), stride=(2, 2), bias=False)\n",
            "        (1): BatchNorm2d(256, eps=1e-05, momentum=0.1, affine=True, track_running_stats=True)\n",
            "      )\n",
            "    )\n",
            "    (1): BasicBlock(\n",
            "      (conv1): Conv2d(256, 256, kernel_size=(3, 3), stride=(1, 1), padding=(1, 1), bias=False)\n",
            "      (bn1): BatchNorm2d(256, eps=1e-05, momentum=0.1, affine=True, track_running_stats=True)\n",
            "      (relu): ReLU(inplace=True)\n",
            "      (conv2): Conv2d(256, 256, kernel_size=(3, 3), stride=(1, 1), padding=(1, 1), bias=False)\n",
            "      (bn2): BatchNorm2d(256, eps=1e-05, momentum=0.1, affine=True, track_running_stats=True)\n",
            "    )\n",
            "  )\n",
            "  (layer4): Sequential(\n",
            "    (0): BasicBlock(\n",
            "      (conv1): Conv2d(256, 512, kernel_size=(3, 3), stride=(2, 2), padding=(1, 1), bias=False)\n",
            "      (bn1): BatchNorm2d(512, eps=1e-05, momentum=0.1, affine=True, track_running_stats=True)\n",
            "      (relu): ReLU(inplace=True)\n",
            "      (conv2): Conv2d(512, 512, kernel_size=(3, 3), stride=(1, 1), padding=(1, 1), bias=False)\n",
            "      (bn2): BatchNorm2d(512, eps=1e-05, momentum=0.1, affine=True, track_running_stats=True)\n",
            "      (downsample): Sequential(\n",
            "        (0): Conv2d(256, 512, kernel_size=(1, 1), stride=(2, 2), bias=False)\n",
            "        (1): BatchNorm2d(512, eps=1e-05, momentum=0.1, affine=True, track_running_stats=True)\n",
            "      )\n",
            "    )\n",
            "    (1): BasicBlock(\n",
            "      (conv1): Conv2d(512, 512, kernel_size=(3, 3), stride=(1, 1), padding=(1, 1), bias=False)\n",
            "      (bn1): BatchNorm2d(512, eps=1e-05, momentum=0.1, affine=True, track_running_stats=True)\n",
            "      (relu): ReLU(inplace=True)\n",
            "      (conv2): Conv2d(512, 512, kernel_size=(3, 3), stride=(1, 1), padding=(1, 1), bias=False)\n",
            "      (bn2): BatchNorm2d(512, eps=1e-05, momentum=0.1, affine=True, track_running_stats=True)\n",
            "    )\n",
            "  )\n",
            "  (avgpool): AdaptiveAvgPool2d(output_size=(1, 1))\n",
            "  (fc): Linear(in_features=512, out_features=1000, bias=True)\n",
            ")\n"
          ]
        }
      ]
    },
    {
      "cell_type": "markdown",
      "metadata": {
        "id": "USjPLWePVnhe"
      },
      "source": [
        "# Show model structure\n",
        "Do the same with your model when you create it.\n",
        "Pay attention to spatial dimension of data in intermediate layers\n"
      ]
    },
    {
      "cell_type": "code",
      "metadata": {
        "id": "JEff69xdk3J1"
      },
      "source": [
        "# Display model structure\n",
        "# Do it for your model when\n",
        "\n",
        "import torch\n",
        "from torch.utils.tensorboard import SummaryWriter\n",
        "\n",
        "reinit_tensorboard()\n",
        "writer = SummaryWriter(comment = \"resnet\")\n",
        "\n",
        "dummy_input = torch.randn([1,3,224,224])\n",
        "writer.add_graph(resnet_original, dummy_input)\n",
        "writer.flush()\n",
        "writer.close()\n"
      ],
      "execution_count": null,
      "outputs": []
    },
    {
      "cell_type": "markdown",
      "metadata": {
        "id": "T6Jy-WhZZ9hf"
      },
      "source": [
        "# Load the dataset\n",
        "\n",
        "Load and preprocess the data.\n",
        "You can change size of datasets"
      ]
    },
    {
      "cell_type": "code",
      "metadata": {
        "id": "XF4CtDcInYhP"
      },
      "source": [
        "from torchvision import models, datasets, transforms\n",
        "from torch.utils.data import DataLoader, random_split\n",
        "import pickle\n",
        "\n",
        "# https://github.com/facebookarchive/fb.resnet.torch/issues/180\n",
        "cifar10_mean = (0.491, 0.482, 0.447)\n",
        "cifar10_std = (0.247, 0.244, 0.262)\n",
        "\n",
        "\n",
        "# Data preprocessing\n",
        "transform=transforms.Compose([\n",
        "                              transforms.ToTensor(), # PIL Image to Pytorch tensor\n",
        "                              transforms.Normalize(cifar10_mean, cifar10_std) # https://pytorch.org/docs/stable/torchvision/transforms.html?highlight=transforms%20normalize#torchvision.transforms.Normalize\n",
        "                              ])\n",
        "\n",
        "dataset = datasets.CIFAR10(\"content\", train=True, transform = transform ,  download=True)\n",
        "\n",
        "# Split dataset into train and val\n",
        "train_ds, val_ds, _= random_split(dataset, [10000, 1000 ,39000])\n",
        "\n",
        "with open(\"content/cifar-10-batches-py/batches.meta\",'rb') as infile:\n",
        "  cifar_meta = pickle.load(infile)\n",
        "labels = cifar_meta['label_names']\n",
        "\n",
        "\n",
        "# Validation function. Don't change this code\n",
        "\n",
        "import torch.optim as optim\n",
        "def validate(model,testloader,device):\n",
        "  correct = 0\n",
        "  total = 0\n",
        "  with torch.no_grad():\n",
        "    for images, labels in testloader:\n",
        "        images = images.to(device)\n",
        "        labels = labels.to(device)\n",
        "        outputs = model(images)\n",
        "        _, predicted = torch.max(outputs.data, 1)\n",
        "        total += labels.size(0)\n",
        "        correct += (predicted == labels).sum().item()\n",
        "\n",
        "  return correct / total\n"
      ],
      "execution_count": null,
      "outputs": []
    },
    {
      "cell_type": "markdown",
      "metadata": {
        "id": "I8ri0SWkXGo7"
      },
      "source": [
        "# Code for training\n",
        "\n",
        "Feel free to change hyperparameters."
      ]
    },
    {
      "cell_type": "code",
      "metadata": {
        "id": "jDhyfuW7nktR"
      },
      "source": [
        "\n",
        "import torch\n",
        "import torch.nn as nn\n",
        "import torch.optim as optim\n",
        "from torch.utils.tensorboard import SummaryWriter\n",
        "\n",
        "def train(model):\n",
        "  writer = SummaryWriter(comment = \"resnet\")\n",
        "  # Run model on cuda\n",
        "  device = torch.device(\"cuda\")\n",
        "\n",
        "  model.train()\n",
        "  model.to(device)\n",
        "\n",
        "  train_loader = DataLoader(train_ds, batch_size = 128, shuffle = True)\n",
        "  val_loader = DataLoader(val_ds, batch_size = 128, shuffle = False)\n",
        "\n",
        "  criterion = nn.CrossEntropyLoss()\n",
        "  optimizer = optim.AdamW(model.parameters(), lr=0.01, weight_decay=1e-4)\n",
        "  best_accuracy = 0\n",
        "\n",
        "  for epoch in range(30):\n",
        "    for img_batch, labels_batch in train_loader:\n",
        "      optimizer.zero_grad()\n",
        "      output = model(img_batch.to(device))\n",
        "      loss = criterion(output, labels_batch.to(device))\n",
        "      loss.backward()\n",
        "      optimizer.step()\n",
        "      images = img_batch.cpu()\n",
        "      label_nums = output.cpu()\n",
        "    accuracy = validate(model,val_loader,device)\n",
        "    if best_accuracy < accuracy:\n",
        "      best_accuracy = accuracy\n",
        "    writer.add_scalar('Accuracy',accuracy,epoch)\n",
        "    writer.add_scalar('Loss/train',loss.cpu().item(),epoch)\n",
        "    print(\"Epoch {} Loss {:.2f} Accuracy {:.2f}\".format(epoch,loss.item(),accuracy))\n",
        "    writer.flush()\n",
        "  writer.close()\n"
      ],
      "execution_count": null,
      "outputs": []
    },
    {
      "cell_type": "markdown",
      "metadata": {
        "id": "x_kACR3toOBC"
      },
      "source": []
    },
    {
      "cell_type": "markdown",
      "metadata": {
        "id": "oVKMChBMXciC"
      },
      "source": [
        "# Main task\n",
        "\n",
        "Create your ouwn resnet - like model with depth of 15 -25 layers\n",
        "\n",
        "Look at original paper before coding : https://arxiv.org/pdf/1512.03385.pdf\n",
        "Don't directly use code from here: https://github.com/pytorch/vision/blob/master/torchvision/models/resnet.py\n",
        "\n",
        "Train and test it on CIFAR10, compare results with original model"
      ]
    },
    {
      "cell_type": "code",
      "metadata": {
        "id": "w5_BAl0iq3-t"
      },
      "source": [
        "import torch.nn as nn\n",
        "import torch\n",
        "import torch.nn.functional as F\n",
        "\n",
        "class CustomResnet(nn.Module):\n",
        "    def __init__(self, class_nums = 10):\n",
        "        super(CustomResnet, self).__init__()\n",
        "\n",
        "        # Put your code here\n",
        "\n",
        "\n",
        "    def forward(self, batch):\n",
        "        # Put your code here\n",
        "\n",
        "        return scores\n",
        "\n",
        "class BasicBlock(nn.Module):\n",
        "   def __init__(self): # You can add params here\n",
        "        super(BasicBlock, self).__init__()\n",
        "\n",
        "   def forward(self, x):\n",
        "        # Put your code here\n",
        "        return out\n"
      ],
      "execution_count": null,
      "outputs": []
    },
    {
      "cell_type": "markdown",
      "metadata": {
        "id": "sUue0PC9XpE2"
      },
      "source": [
        "#Train your model\n",
        "\n"
      ]
    },
    {
      "cell_type": "code",
      "metadata": {
        "id": "lNmrQKBYynVQ"
      },
      "source": [
        "custom_resnet = CustomResnet(10)\n",
        "#reinit_tensorboard() # If need\n",
        "train(custom_resnet)"
      ],
      "execution_count": null,
      "outputs": []
    },
    {
      "cell_type": "markdown",
      "metadata": {
        "id": "8Sr2-cZyX4Dg"
      },
      "source": [
        "#Train resnet18 from torchvision.models\n",
        "\n",
        "  Train from scratch Resnet18 on CIFAR-10\n",
        "  Compare results with yours and with results from original paper:\n",
        "\n",
        "\n",
        "![CIFAR10.png](data:image/png;base64,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)\n",
        "\n",
        " https://arxiv.org/pdf/1512.03385.pdf"
      ]
    },
    {
      "cell_type": "code",
      "metadata": {
        "id": "zX78L7iuXymd"
      },
      "source": [
        "reinit_tensorboard() # If need\n",
        "\n",
        "# Put your code here\n"
      ],
      "execution_count": null,
      "outputs": []
    },
    {
      "cell_type": "markdown",
      "metadata": {
        "id": "MwAkO1InYLDc"
      },
      "source": [
        "#Place for conclusion:\n",
        "\n",
        "...."
      ]
    }
  ]
}